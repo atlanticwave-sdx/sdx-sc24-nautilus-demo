{
 "cells": [
  {
   "cell_type": "markdown",
   "id": "df2b46a7-f504-49e6-9681-d41495431e33",
   "metadata": {},
   "source": [
    "### Pre-requirements\n",
    "\n",
    "- Step 1: upload your kube config to fabric_config"
   ]
  },
  {
   "cell_type": "markdown",
   "id": "9170e085-5c81-4fd8-b024-0f332293aebd",
   "metadata": {},
   "source": [
    "- Step 2: download the python wrapper to instantiate Pods on Nautilus NRP Kubernetes cluster"
   ]
  },
  {
   "cell_type": "code",
   "execution_count": 8,
   "id": "acc6dde9-f315-4661-bf63-b4e5793803d2",
   "metadata": {},
   "outputs": [
    {
     "name": "stdout",
     "output_type": "stream",
     "text": [
      "  % Total    % Received % Xferd  Average Speed   Time    Time     Time  Current\n",
      "                                 Dload  Upload   Total   Spent    Left  Speed\n",
      "100  7142  100  7142    0     0  30200      0 --:--:-- --:--:-- --:--:-- 30262\n"
     ]
    }
   ],
   "source": [
    "!curl -LO https://raw.githubusercontent.com/atlanticwave-sdx/sdx-sc24-nautilus-demo/refs/heads/master/nautilus_utils.py"
   ]
  },
  {
   "cell_type": "markdown",
   "id": "a9595020-d88c-4b42-8096-ff3138e10850",
   "metadata": {},
   "source": [
    "- Step 3: install Kubernetes lib"
   ]
  },
  {
   "cell_type": "code",
   "execution_count": 2,
   "id": "91bca083-603a-425a-9901-0891a06b8ba4",
   "metadata": {},
   "outputs": [
    {
     "name": "stdout",
     "output_type": "stream",
     "text": [
      "Collecting kubernetes\n",
      "  Downloading kubernetes-32.0.1-py2.py3-none-any.whl.metadata (1.7 kB)\n",
      "Requirement already satisfied: certifi>=14.05.14 in /opt/conda/lib/python3.11/site-packages (from kubernetes) (2024.7.4)\n",
      "Requirement already satisfied: six>=1.9.0 in /opt/conda/lib/python3.11/site-packages (from kubernetes) (1.16.0)\n",
      "Requirement already satisfied: python-dateutil>=2.5.3 in /opt/conda/lib/python3.11/site-packages (from kubernetes) (2.9.0)\n",
      "Requirement already satisfied: pyyaml>=5.4.1 in /opt/conda/lib/python3.11/site-packages (from kubernetes) (6.0.1)\n",
      "Collecting google-auth>=1.0.1 (from kubernetes)\n",
      "  Downloading google_auth-2.38.0-py2.py3-none-any.whl.metadata (4.8 kB)\n",
      "Requirement already satisfied: websocket-client!=0.40.0,!=0.41.*,!=0.42.*,>=0.32.0 in /opt/conda/lib/python3.11/site-packages (from kubernetes) (1.8.0)\n",
      "Requirement already satisfied: requests in /opt/conda/lib/python3.11/site-packages (from kubernetes) (2.32.3)\n",
      "Collecting requests-oauthlib (from kubernetes)\n",
      "  Downloading requests_oauthlib-2.0.0-py2.py3-none-any.whl.metadata (11 kB)\n",
      "Requirement already satisfied: oauthlib>=3.2.2 in /opt/conda/lib/python3.11/site-packages (from kubernetes) (3.2.2)\n",
      "Requirement already satisfied: urllib3>=1.24.2 in /opt/conda/lib/python3.11/site-packages (from kubernetes) (2.2.2)\n",
      "Collecting durationpy>=0.7 (from kubernetes)\n",
      "  Downloading durationpy-0.9-py3-none-any.whl.metadata (338 bytes)\n",
      "Collecting cachetools<6.0,>=2.0.0 (from google-auth>=1.0.1->kubernetes)\n",
      "  Downloading cachetools-5.5.2-py3-none-any.whl.metadata (5.4 kB)\n",
      "Collecting pyasn1-modules>=0.2.1 (from google-auth>=1.0.1->kubernetes)\n",
      "  Downloading pyasn1_modules-0.4.1-py3-none-any.whl.metadata (3.5 kB)\n",
      "Collecting rsa<5,>=3.1.4 (from google-auth>=1.0.1->kubernetes)\n",
      "  Downloading rsa-4.9-py3-none-any.whl.metadata (4.2 kB)\n",
      "Requirement already satisfied: charset-normalizer<4,>=2 in /opt/conda/lib/python3.11/site-packages (from requests->kubernetes) (3.3.2)\n",
      "Requirement already satisfied: idna<4,>=2.5 in /opt/conda/lib/python3.11/site-packages (from requests->kubernetes) (3.7)\n",
      "Collecting pyasn1<0.7.0,>=0.4.6 (from pyasn1-modules>=0.2.1->google-auth>=1.0.1->kubernetes)\n",
      "  Downloading pyasn1-0.6.1-py3-none-any.whl.metadata (8.4 kB)\n",
      "Downloading kubernetes-32.0.1-py2.py3-none-any.whl (2.0 MB)\n",
      "\u001b[2K   \u001b[90m━━━━━━━━━━━━━━━━━━━━━━━━━━━━━━━━━━━━━━━━\u001b[0m \u001b[32m2.0/2.0 MB\u001b[0m \u001b[31m14.7 MB/s\u001b[0m eta \u001b[36m0:00:00\u001b[0ma \u001b[36m0:00:01\u001b[0m\n",
      "\u001b[?25hDownloading durationpy-0.9-py3-none-any.whl (3.5 kB)\n",
      "Downloading google_auth-2.38.0-py2.py3-none-any.whl (210 kB)\n",
      "\u001b[2K   \u001b[90m━━━━━━━━━━━━━━━━━━━━━━━━━━━━━━━━━━━━━━━━\u001b[0m \u001b[32m210.8/210.8 kB\u001b[0m \u001b[31m26.7 MB/s\u001b[0m eta \u001b[36m0:00:00\u001b[0m\n",
      "\u001b[?25hDownloading requests_oauthlib-2.0.0-py2.py3-none-any.whl (24 kB)\n",
      "Downloading cachetools-5.5.2-py3-none-any.whl (10 kB)\n",
      "Downloading pyasn1_modules-0.4.1-py3-none-any.whl (181 kB)\n",
      "\u001b[2K   \u001b[90m━━━━━━━━━━━━━━━━━━━━━━━━━━━━━━━━━━━━━━━━\u001b[0m \u001b[32m181.5/181.5 kB\u001b[0m \u001b[31m22.8 MB/s\u001b[0m eta \u001b[36m0:00:00\u001b[0m\n",
      "\u001b[?25hDownloading rsa-4.9-py3-none-any.whl (34 kB)\n",
      "Downloading pyasn1-0.6.1-py3-none-any.whl (83 kB)\n",
      "\u001b[2K   \u001b[90m━━━━━━━━━━━━━━━━━━━━━━━━━━━━━━━━━━━━━━━━\u001b[0m \u001b[32m83.1/83.1 kB\u001b[0m \u001b[31m11.6 MB/s\u001b[0m eta \u001b[36m0:00:00\u001b[0m\n",
      "\u001b[?25hInstalling collected packages: durationpy, pyasn1, cachetools, rsa, requests-oauthlib, pyasn1-modules, google-auth, kubernetes\n",
      "Successfully installed cachetools-5.5.2 durationpy-0.9 google-auth-2.38.0 kubernetes-32.0.1 pyasn1-0.6.1 pyasn1-modules-0.4.1 requests-oauthlib-2.0.0 rsa-4.9\n",
      "Note: you may need to restart the kernel to use updated packages.\n"
     ]
    }
   ],
   "source": [
    "%pip install kubernetes"
   ]
  },
  {
   "cell_type": "markdown",
   "id": "b5e2a385-7c21-4ce1-835c-d10b7c555ee9",
   "metadata": {},
   "source": [
    "### Running the experiment"
   ]
  },
  {
   "cell_type": "code",
   "execution_count": 21,
   "id": "e22f11c2-3a62-4ba9-b18f-583b9b2744c9",
   "metadata": {},
   "outputs": [],
   "source": [
    "from nautilus_utils import create_deployment, run_command, wait_for_pod_ready, delete_vlan, delete_deployment, reload_config"
   ]
  },
  {
   "cell_type": "code",
   "execution_count": 6,
   "id": "532a01a5-35a3-426e-8e70-ad9ef913ec3d",
   "metadata": {},
   "outputs": [
    {
     "data": {
      "text/plain": [
       "True"
      ]
     },
     "execution_count": 6,
     "metadata": {},
     "output_type": "execute_result"
    }
   ],
   "source": [
    "create_deployment(\n",
    "    name=\"amlight-demo\",\n",
    "    image=\"gitlab-registry.nrp-nautilus.io/prp/perfsonar/testpoint\",\n",
    "    nrp_node=\"k8s-gen4-01.ampath.net\",\n",
    "    node_iface=\"enp193s0f1\",\n",
    "    vlan=3999\n",
    ")"
   ]
  },
  {
   "cell_type": "code",
   "execution_count": 7,
   "id": "4bc089c2-02dd-434d-a4b1-2c717e8eb5f3",
   "metadata": {},
   "outputs": [
    {
     "name": "stdout",
     "output_type": "stream",
     "text": [
      "wait for resources to be ready........ done\n"
     ]
    },
    {
     "data": {
      "text/plain": [
       "True"
      ]
     },
     "execution_count": 7,
     "metadata": {},
     "output_type": "execute_result"
    }
   ],
   "source": [
    "wait_for_pod_ready(name=\"amlight-demo\")"
   ]
  },
  {
   "cell_type": "code",
   "execution_count": 24,
   "id": "7a884ee0-0505-48aa-8f9d-5f91d114cd51",
   "metadata": {},
   "outputs": [
    {
     "name": "stdout",
     "output_type": "stream",
     "text": [
      "eth0: flags=4163<UP,BROADCAST,RUNNING,MULTICAST>  mtu 8930\n",
      "        inet 10.244.230.235  netmask 255.255.255.255  broadcast 0.0.0.0\n",
      "        inet6 fdf0:17b3:c3ec:1f79:10:0:d:dfb8  prefixlen 128  scopeid 0x0<global>\n",
      "        inet6 fe80::4813:dfff:fe6c:c22f  prefixlen 64  scopeid 0x20<link>\n",
      "        ether 4a:13:df:6c:c2:2f  txqueuelen 1000  (Ethernet)\n",
      "        RX packets 12  bytes 2334 (2.2 KiB)\n",
      "        RX errors 0  dropped 2  overruns 0  frame 0\n",
      "        TX packets 8  bytes 700 (700.0 B)\n",
      "        TX errors 0  dropped 0 overruns 0  carrier 0  collisions 0\n",
      "\n",
      "lo: flags=73<UP,LOOPBACK,RUNNING>  mtu 65536\n",
      "        inet 127.0.0.1  netmask 255.0.0.0\n",
      "        inet6 ::1  prefixlen 128  scopeid 0x10<host>\n",
      "        loop  txqueuelen 1000  (Local Loopback)\n",
      "        RX packets 0  bytes 0 (0.0 B)\n",
      "        RX errors 0  dropped 0  overruns 0  frame 0\n",
      "        TX packets 0  bytes 0 (0.0 B)\n",
      "        TX errors 0  dropped 0 overruns 0  carrier 0  collisions 0\n",
      "\n",
      "net1: flags=4163<UP,BROADCAST,RUNNING,MULTICAST>  mtu 9000\n",
      "        inet 10.1.11.29  netmask 255.255.255.0  broadcast 10.1.11.255\n",
      "        inet6 fe80::1e34:daff:fe78:fcf1  prefixlen 64  scopeid 0x20<link>\n",
      "        ether 1c:34:da:78:fc:f1  txqueuelen 0  (Ethernet)\n",
      "        RX packets 0  bytes 0 (0.0 B)\n",
      "        RX errors 0  dropped 0  overruns 0  frame 0\n",
      "        TX packets 11  bytes 906 (906.0 B)\n",
      "        TX errors 0  dropped 0 overruns 0  carrier 0  collisions 0\n",
      "\n",
      "\n"
     ]
    }
   ],
   "source": [
    "print(run_command(\"amlight-demo\", \"ifconfig\"))"
   ]
  },
  {
   "cell_type": "code",
   "execution_count": 5,
   "id": "0ee11fec-6cff-4ac9-bf25-64f08f11b3c8",
   "metadata": {},
   "outputs": [
    {
     "name": "stdout",
     "output_type": "stream",
     "text": [
      "PING 2001:db8:1:100::2(2001:db8:1:100::2) 56 data bytes\n",
      "64 bytes from 2001:db8:1:100::2: icmp_seq=1 ttl=64 time=0.298 ms\n",
      "64 bytes from 2001:db8:1:100::2: icmp_seq=2 ttl=64 time=0.139 ms\n",
      "\n",
      "--- 2001:db8:1:100::2 ping statistics ---\n",
      "2 packets transmitted, 2 received, 0% packet loss, time 999ms\n",
      "rtt min/avg/max/mdev = 0.139/0.218/0.298/0.080 ms\n",
      "\n"
     ]
    }
   ],
   "source": [
    "print(run_command(\"amlight-demo\", \"ping6 -c2 2001:db8:1:100::2\"))"
   ]
  },
  {
   "cell_type": "code",
   "execution_count": 7,
   "id": "6887e11f-7061-4a44-8deb-8aa2e0059e8a",
   "metadata": {},
   "outputs": [
    {
     "name": "stdout",
     "output_type": "stream",
     "text": [
      "Connecting to host 2001:db8:1:100::2, port 5201\n",
      "[  5] local 2001:db8:1:100::1 port 35056 connected to 2001:db8:1:100::2 port 5201\n",
      "[ ID] Interval           Transfer     Bitrate         Retr  Cwnd\n",
      "[  5]   0.00-1.05   sec  60.5 MBytes   481 Mbits/sec   12    994 KBytes       \n",
      "[  5]   1.05-2.05   sec  63.8 MBytes   535 Mbits/sec    0   1.13 MBytes       \n",
      "[  5]   2.05-3.05   sec  63.8 MBytes   535 Mbits/sec    3    968 KBytes       \n",
      "[  5]   3.05-4.05   sec  57.5 MBytes   482 Mbits/sec    0   1.17 MBytes       \n",
      "[  5]   4.05-5.05   sec  58.8 MBytes   493 Mbits/sec    2   1.03 MBytes       \n",
      "[  5]   5.05-6.05   sec  61.2 MBytes   514 Mbits/sec    0   1.21 MBytes       \n",
      "[  5]   6.05-7.05   sec  62.5 MBytes   524 Mbits/sec    2   1.14 MBytes       \n",
      "[  5]   7.05-8.05   sec  61.2 MBytes   514 Mbits/sec    4    968 KBytes       \n",
      "[  5]   8.05-9.05   sec  57.5 MBytes   482 Mbits/sec    0   1.20 MBytes       \n",
      "[  5]   9.05-10.05  sec  66.2 MBytes   556 Mbits/sec    9    950 KBytes       \n",
      "- - - - - - - - - - - - - - - - - - - - - - - - -\n",
      "[ ID] Interval           Transfer     Bitrate         Retr\n",
      "[  5]   0.00-10.05  sec   613 MBytes   511 Mbits/sec   32             sender\n",
      "[  5]   0.00-10.05  sec   612 MBytes   511 Mbits/sec                  receiver\n",
      "\n",
      "iperf Done.\n",
      "\n"
     ]
    }
   ],
   "source": [
    "print(run_command(\"amlight-demo\", \"iperf3 -i 1 -c 2001:db8:1:100::2\"))"
   ]
  },
  {
   "cell_type": "code",
   "execution_count": null,
   "id": "69c904b3-b9f5-497d-8f7b-09e08f5d3734",
   "metadata": {},
   "outputs": [],
   "source": []
  }
 ],
 "metadata": {
  "kernelspec": {
   "display_name": "Python 3 (ipykernel)",
   "language": "python",
   "name": "python3"
  },
  "language_info": {
   "codemirror_mode": {
    "name": "ipython",
    "version": 3
   },
   "file_extension": ".py",
   "mimetype": "text/x-python",
   "name": "python",
   "nbconvert_exporter": "python",
   "pygments_lexer": "ipython3",
   "version": "3.11.9"
  }
 },
 "nbformat": 4,
 "nbformat_minor": 5
}
